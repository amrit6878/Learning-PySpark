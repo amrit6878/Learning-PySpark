{
  "nbformat": 4,
  "nbformat_minor": 0,
  "metadata": {
    "colab": {
      "provenance": [],
      "authorship_tag": "ABX9TyP1rrcrpuw4UzK9gzLKsT/C",
      "include_colab_link": true
    },
    "kernelspec": {
      "name": "python3",
      "display_name": "Python 3"
    },
    "language_info": {
      "name": "python"
    }
  },
  "cells": [
    {
      "cell_type": "markdown",
      "metadata": {
        "id": "view-in-github",
        "colab_type": "text"
      },
      "source": [
        "<a href=\"https://colab.research.google.com/github/amrit6878/Learning-PySpark/blob/main/Sorting.ipynb\" target=\"_parent\"><img src=\"https://colab.research.google.com/assets/colab-badge.svg\" alt=\"Open In Colab\"/></a>"
      ]
    },
    {
      "cell_type": "markdown",
      "source": [
        "# **Sorting & Ordering in PySpark**\n",
        "sorting can be done using:\n",
        "\n",
        "\t1.\torderBy() → Most common method\n",
        "\t2.\tsort() → Alias of orderBy()\n",
        "\t3.\tasc() and desc() → For ascending or descending\n",
        "\n",
        "Syntax :\n",
        "\n",
        "`df.orderby(col('column_name').asc/desc())`"
      ],
      "metadata": {
        "id": "gOFNU5BXLcpb"
      }
    },
    {
      "cell_type": "code",
      "execution_count": 1,
      "metadata": {
        "colab": {
          "base_uri": "https://localhost:8080/"
        },
        "id": "ttaE5ta8CDIy",
        "outputId": "7c4936ef-aaad-49d6-e0ab-7374fbb2d9be"
      },
      "outputs": [
        {
          "output_type": "stream",
          "name": "stdout",
          "text": [
            "+-------+-------+--------+-----+----------+\n",
            "|OrderID|Product|Quantity|Price|      Date|\n",
            "+-------+-------+--------+-----+----------+\n",
            "|    101| Laptop|       5|50000|2025-01-10|\n",
            "|    102|  Phone|      10|20000|2025-02-15|\n",
            "|    103| Tablet|       3|30000|2025-02-20|\n",
            "|    104| Laptop|       7|52000|2025-03-01|\n",
            "|    105| Camera|       2|25000|2025-03-15|\n",
            "|    106|  Phone|      15|18000|2025-04-05|\n",
            "|    107| Laptop|       2|48000|2025-04-10|\n",
            "+-------+-------+--------+-----+----------+\n",
            "\n"
          ]
        }
      ],
      "source": [
        "from pyspark.sql import SparkSession\n",
        "from pyspark.sql.functions import col, desc, asc\n",
        "\n",
        "spark = SparkSession.builder.appName(\"SortingExample\").getOrCreate()\n",
        "\n",
        "sales_data = [\n",
        "    (101, \"Laptop\", 5, 50000, \"2025-01-10\"),\n",
        "    (102, \"Phone\", 10, 20000, \"2025-02-15\"),\n",
        "    (103, \"Tablet\", 3, 30000, \"2025-02-20\"),\n",
        "    (104, \"Laptop\", 7, 52000, \"2025-03-01\"),\n",
        "    (105, \"Camera\", 2, 25000, \"2025-03-15\"),\n",
        "    (106, \"Phone\", 15, 18000, \"2025-04-05\"),\n",
        "    (107, \"Laptop\", 2, 48000, \"2025-04-10\")\n",
        "]\n",
        "columns = [\"OrderID\", \"Product\", \"Quantity\", \"Price\", \"Date\"]\n",
        "\n",
        "df = spark.createDataFrame(sales_data, columns)\n",
        "df.show()"
      ]
    },
    {
      "cell_type": "markdown",
      "source": [
        " Product team wants sales orders sorted by quantity."
      ],
      "metadata": {
        "id": "sv4oMdEzMKZ3"
      }
    },
    {
      "cell_type": "code",
      "source": [
        "df.orderBy(col(\"Quantity\").asc()).show()"
      ],
      "metadata": {
        "colab": {
          "base_uri": "https://localhost:8080/"
        },
        "id": "-ZPR_ShKMGaO",
        "outputId": "0d7b620e-aed0-445d-c697-a30c8cd56c7d"
      },
      "execution_count": 2,
      "outputs": [
        {
          "output_type": "stream",
          "name": "stdout",
          "text": [
            "+-------+-------+--------+-----+----------+\n",
            "|OrderID|Product|Quantity|Price|      Date|\n",
            "+-------+-------+--------+-----+----------+\n",
            "|    105| Camera|       2|25000|2025-03-15|\n",
            "|    107| Laptop|       2|48000|2025-04-10|\n",
            "|    103| Tablet|       3|30000|2025-02-20|\n",
            "|    101| Laptop|       5|50000|2025-01-10|\n",
            "|    104| Laptop|       7|52000|2025-03-01|\n",
            "|    102|  Phone|      10|20000|2025-02-15|\n",
            "|    106|  Phone|      15|18000|2025-04-05|\n",
            "+-------+-------+--------+-----+----------+\n",
            "\n"
          ]
        }
      ]
    },
    {
      "cell_type": "markdown",
      "source": [
        " Management wants to see highest priced orders first."
      ],
      "metadata": {
        "id": "OnilcfbAMWIS"
      }
    },
    {
      "cell_type": "code",
      "source": [
        "df.orderBy(col(\"Price\").desc()).show()"
      ],
      "metadata": {
        "colab": {
          "base_uri": "https://localhost:8080/"
        },
        "id": "vJov5NqQMOsm",
        "outputId": "5aac5561-f0db-436e-91d4-d9fc0c5b8119"
      },
      "execution_count": 3,
      "outputs": [
        {
          "output_type": "stream",
          "name": "stdout",
          "text": [
            "+-------+-------+--------+-----+----------+\n",
            "|OrderID|Product|Quantity|Price|      Date|\n",
            "+-------+-------+--------+-----+----------+\n",
            "|    104| Laptop|       7|52000|2025-03-01|\n",
            "|    101| Laptop|       5|50000|2025-01-10|\n",
            "|    107| Laptop|       2|48000|2025-04-10|\n",
            "|    103| Tablet|       3|30000|2025-02-20|\n",
            "|    105| Camera|       2|25000|2025-03-15|\n",
            "|    102|  Phone|      10|20000|2025-02-15|\n",
            "|    106|  Phone|      15|18000|2025-04-05|\n",
            "+-------+-------+--------+-----+----------+\n",
            "\n"
          ]
        }
      ]
    },
    {
      "cell_type": "markdown",
      "source": [
        "Scenario:\n",
        "\n",
        "\t•\tSort orders first by Product (alphabetically)\n",
        "\t•\tThen by Price (descending) within each product"
      ],
      "metadata": {
        "id": "1DzPrtIuMbwt"
      }
    },
    {
      "cell_type": "code",
      "source": [
        "df.orderBy(col(\"Product\").asc(), col(\"Price\").desc()).show()"
      ],
      "metadata": {
        "colab": {
          "base_uri": "https://localhost:8080/"
        },
        "id": "ObvpKpLEMYw2",
        "outputId": "9bae61b4-5143-4604-e284-b4c6a02f9cb7"
      },
      "execution_count": 4,
      "outputs": [
        {
          "output_type": "stream",
          "name": "stdout",
          "text": [
            "+-------+-------+--------+-----+----------+\n",
            "|OrderID|Product|Quantity|Price|      Date|\n",
            "+-------+-------+--------+-----+----------+\n",
            "|    105| Camera|       2|25000|2025-03-15|\n",
            "|    104| Laptop|       7|52000|2025-03-01|\n",
            "|    101| Laptop|       5|50000|2025-01-10|\n",
            "|    107| Laptop|       2|48000|2025-04-10|\n",
            "|    102|  Phone|      10|20000|2025-02-15|\n",
            "|    106|  Phone|      15|18000|2025-04-05|\n",
            "|    103| Tablet|       3|30000|2025-02-20|\n",
            "+-------+-------+--------+-----+----------+\n",
            "\n"
          ]
        }
      ]
    },
    {
      "cell_type": "code",
      "source": [],
      "metadata": {
        "id": "3tam_tvRM9JM"
      },
      "execution_count": null,
      "outputs": []
    }
  ]
}