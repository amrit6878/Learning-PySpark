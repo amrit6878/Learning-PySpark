{
  "nbformat": 4,
  "nbformat_minor": 0,
  "metadata": {
    "colab": {
      "provenance": [],
      "authorship_tag": "ABX9TyP4KC4L+1XSLFEAIgtqK/nh",
      "include_colab_link": true
    },
    "kernelspec": {
      "name": "python3",
      "display_name": "Python 3"
    },
    "language_info": {
      "name": "python"
    }
  },
  "cells": [
    {
      "cell_type": "markdown",
      "metadata": {
        "id": "view-in-github",
        "colab_type": "text"
      },
      "source": [
        "<a href=\"https://colab.research.google.com/github/amrit6878/Learning-PySpark/blob/main/withColumnFucntion.ipynb\" target=\"_parent\"><img src=\"https://colab.research.google.com/assets/colab-badge.svg\" alt=\"Open In Colab\"/></a>"
      ]
    },
    {
      "cell_type": "markdown",
      "source": [
        "## withColumn()\n",
        " * is used to add a new column or modify an existing column in a DataFrame.\n",
        " * it allows you to apply transformations to columns efficiently.\n",
        "```\n",
        "df.withColumn(colName, col)\n",
        "```\n",
        "most common uses and applications of withColumn():\n",
        "\n",
        "\n",
        "1. Derive new columns from existing ones using expressions.\n",
        "2. Transform data in existing columns (e.g., normalization, scaling, text formatting).\n",
        "3. Create categorical columns using conditions (when / otherwise).\n",
        "4. Handling Missing Values - Replace null with default values.\n",
        "5.  Extracting or Transforming Date and Time\n",
        "\n"
      ],
      "metadata": {
        "id": "0hzOUAJ6V9oE"
      }
    },
    {
      "cell_type": "code",
      "execution_count": 5,
      "metadata": {
        "id": "wmOtOQtwTP0D",
        "colab": {
          "base_uri": "https://localhost:8080/"
        },
        "outputId": "c1a2d52a-ae0e-4ea2-fad9-4bd4331f2faf"
      },
      "outputs": [
        {
          "output_type": "stream",
          "name": "stdout",
          "text": [
            "+---+------+------+---+\n",
            "| id|  name|salary|age|\n",
            "+---+------+------+---+\n",
            "|  1| Amrit| 70000| 25|\n",
            "|  2|Neeraj| 68000| 28|\n",
            "|  3|Shivam| 80000| 26|\n",
            "|  4| Priya| 75000| 24|\n",
            "|  5| Rohit| 72000| 27|\n",
            "|  6|Anjali| 69000| 23|\n",
            "|  7|Vikram| 82000| 29|\n",
            "|  8| Kiran| 76000| 26|\n",
            "|  9| Suman| 71000| 24|\n",
            "| 10|  Ravi| 73000| 25|\n",
            "+---+------+------+---+\n",
            "\n"
          ]
        }
      ],
      "source": [
        "data = [\n",
        "    (1, 'Amrit', 70000, 25),\n",
        "    (2, 'Neeraj', 68000, 28),\n",
        "    (3, 'Shivam', 80000, 26),\n",
        "    (4, 'Priya', 75000, 24),\n",
        "    (5, 'Rohit', 72000, 27),\n",
        "    (6, 'Anjali', 69000, 23),\n",
        "    (7, 'Vikram', 82000, 29),\n",
        "    (8, 'Kiran', 76000, 26),\n",
        "    (9, 'Suman', 71000, 24),\n",
        "    (10, 'Ravi', 73000, 25)\n",
        "]\n",
        "\n",
        "columns = ['id', 'name', 'salary', 'age']\n",
        "\n",
        "df = spark.createDataFrame(data, columns)\n",
        "df.show()"
      ]
    },
    {
      "cell_type": "code",
      "metadata": {
        "colab": {
          "base_uri": "https://localhost:8080/"
        },
        "id": "f5dad236",
        "outputId": "e132d1c5-1b2d-4276-fe78-e4a7ce7c8da2"
      },
      "source": [
        "!pip install pyspark\n",
        "from pyspark.sql import SparkSession\n",
        "spark = SparkSession.builder.appName(\"colab\").getOrCreate()"
      ],
      "execution_count": 2,
      "outputs": [
        {
          "output_type": "stream",
          "name": "stdout",
          "text": [
            "Requirement already satisfied: pyspark in /usr/local/lib/python3.11/dist-packages (3.5.1)\n",
            "Requirement already satisfied: py4j==0.10.9.7 in /usr/local/lib/python3.11/dist-packages (from pyspark) (0.10.9.7)\n"
          ]
        }
      ]
    },
    {
      "cell_type": "code",
      "source": [
        "df.printSchema()"
      ],
      "metadata": {
        "colab": {
          "base_uri": "https://localhost:8080/"
        },
        "id": "BC9vrMWzViOz",
        "outputId": "bcb0d0aa-7c81-4943-f68e-d0b8e39dcad3"
      },
      "execution_count": 4,
      "outputs": [
        {
          "output_type": "stream",
          "name": "stdout",
          "text": [
            "root\n",
            " |-- id: long (nullable = true)\n",
            " |-- name: string (nullable = true)\n",
            " |-- salary: string (nullable = true)\n",
            "\n"
          ]
        }
      ]
    },
    {
      "cell_type": "markdown",
      "source": [
        "**ADDED A NEW COLUMN** - bonus of 10% of everyone salary"
      ],
      "metadata": {
        "id": "xZ84Y7O4YYim"
      }
    },
    {
      "cell_type": "code",
      "source": [
        "from pyspark.sql.functions import *\n",
        "df = df.withColumn(\"bonus\", col(\"salary\") * 0.10)\n",
        "df.show()"
      ],
      "metadata": {
        "colab": {
          "base_uri": "https://localhost:8080/"
        },
        "id": "kkVAgzh5VlmD",
        "outputId": "40c6d9cd-3e90-429f-ad45-7efde954555a"
      },
      "execution_count": 8,
      "outputs": [
        {
          "output_type": "stream",
          "name": "stdout",
          "text": [
            "+---+------+------+---+------+\n",
            "| id|  name|salary|age| bonus|\n",
            "+---+------+------+---+------+\n",
            "|  1| Amrit| 70000| 25|7000.0|\n",
            "|  2|Neeraj| 68000| 28|6800.0|\n",
            "|  3|Shivam| 80000| 26|8000.0|\n",
            "|  4| Priya| 75000| 24|7500.0|\n",
            "|  5| Rohit| 72000| 27|7200.0|\n",
            "|  6|Anjali| 69000| 23|6900.0|\n",
            "|  7|Vikram| 82000| 29|8200.0|\n",
            "|  8| Kiran| 76000| 26|7600.0|\n",
            "|  9| Suman| 71000| 24|7100.0|\n",
            "| 10|  Ravi| 73000| 25|7300.0|\n",
            "+---+------+------+---+------+\n",
            "\n"
          ]
        }
      ]
    },
    {
      "cell_type": "markdown",
      "source": [
        "**Modify an Existing Column** - Converting Name to Uppercase"
      ],
      "metadata": {
        "id": "uEB7rpAtZAI-"
      }
    },
    {
      "cell_type": "code",
      "source": [
        "df = df.withColumn(\"name\", upper(col(\"name\")))\n",
        "df.show()"
      ],
      "metadata": {
        "colab": {
          "base_uri": "https://localhost:8080/"
        },
        "id": "iF98lvO9Y6My",
        "outputId": "6dfb0a35-16f2-440a-92a8-015279f3663c"
      },
      "execution_count": 9,
      "outputs": [
        {
          "output_type": "stream",
          "name": "stdout",
          "text": [
            "+---+------+------+---+------+\n",
            "| id|  name|salary|age| bonus|\n",
            "+---+------+------+---+------+\n",
            "|  1| AMRIT| 70000| 25|7000.0|\n",
            "|  2|NEERAJ| 68000| 28|6800.0|\n",
            "|  3|SHIVAM| 80000| 26|8000.0|\n",
            "|  4| PRIYA| 75000| 24|7500.0|\n",
            "|  5| ROHIT| 72000| 27|7200.0|\n",
            "|  6|ANJALI| 69000| 23|6900.0|\n",
            "|  7|VIKRAM| 82000| 29|8200.0|\n",
            "|  8| KIRAN| 76000| 26|7600.0|\n",
            "|  9| SUMAN| 71000| 24|7100.0|\n",
            "| 10|  RAVI| 73000| 25|7300.0|\n",
            "+---+------+------+---+------+\n",
            "\n"
          ]
        }
      ]
    },
    {
      "cell_type": "markdown",
      "source": [
        "**Conditional Column Creation** - Overpaid or Good Pay"
      ],
      "metadata": {
        "id": "4O56sr3WZTp-"
      }
    },
    {
      "cell_type": "code",
      "source": [
        "df = df.withColumn(\n",
        "                    \"salary_category\",\n",
        "                    when(col('salary')>=75000, 'Overpaid')\n",
        "                    .otherwise('Good Pay')\n",
        "                    )\n",
        "df.show()"
      ],
      "metadata": {
        "colab": {
          "base_uri": "https://localhost:8080/"
        },
        "id": "zGVsAxeqZJ7t",
        "outputId": "2c56e0a7-a8a7-4cec-e732-095f409eb8a0"
      },
      "execution_count": 10,
      "outputs": [
        {
          "output_type": "stream",
          "name": "stdout",
          "text": [
            "+---+------+------+---+------+---------------+\n",
            "| id|  name|salary|age| bonus|salary_category|\n",
            "+---+------+------+---+------+---------------+\n",
            "|  1| AMRIT| 70000| 25|7000.0|       Good Pay|\n",
            "|  2|NEERAJ| 68000| 28|6800.0|       Good Pay|\n",
            "|  3|SHIVAM| 80000| 26|8000.0|       Overpaid|\n",
            "|  4| PRIYA| 75000| 24|7500.0|       Overpaid|\n",
            "|  5| ROHIT| 72000| 27|7200.0|       Good Pay|\n",
            "|  6|ANJALI| 69000| 23|6900.0|       Good Pay|\n",
            "|  7|VIKRAM| 82000| 29|8200.0|       Overpaid|\n",
            "|  8| KIRAN| 76000| 26|7600.0|       Overpaid|\n",
            "|  9| SUMAN| 71000| 24|7100.0|       Good Pay|\n",
            "| 10|  RAVI| 73000| 25|7300.0|       Good Pay|\n",
            "+---+------+------+---+------+---------------+\n",
            "\n"
          ]
        }
      ]
    },
    {
      "cell_type": "markdown",
      "source": [
        "**Data Type Casting** -  salary to IntegerType"
      ],
      "metadata": {
        "id": "FnVDkvQcaN_F"
      }
    },
    {
      "cell_type": "code",
      "source": [
        "from pyspark.sql.types import IntegerType\n",
        "df = df.withColumn(\"salary\", col(\"salary\").cast(IntegerType()))"
      ],
      "metadata": {
        "id": "T82r-h80aR7R"
      },
      "execution_count": 12,
      "outputs": []
    },
    {
      "cell_type": "markdown",
      "source": [
        "**Mathematical Transformation** - salary squared for feature engineering"
      ],
      "metadata": {
        "id": "OyrIrHGrahxc"
      }
    },
    {
      "cell_type": "code",
      "source": [
        "df = df.withColumn(\"salary_squared\", col(\"salary\") ** 2)\n",
        "df.show()"
      ],
      "metadata": {
        "colab": {
          "base_uri": "https://localhost:8080/"
        },
        "id": "sX0vSI3zafDh",
        "outputId": "befd36ec-ddfc-4d51-f110-915e139d73b1"
      },
      "execution_count": 13,
      "outputs": [
        {
          "output_type": "stream",
          "name": "stdout",
          "text": [
            "+---+------+------+---+------+---------------+--------------+\n",
            "| id|  name|salary|age| bonus|salary_category|salary_squared|\n",
            "+---+------+------+---+------+---------------+--------------+\n",
            "|  1| AMRIT| 70000| 25|7000.0|       Good Pay|         4.9E9|\n",
            "|  2|NEERAJ| 68000| 28|6800.0|       Good Pay|       4.624E9|\n",
            "|  3|SHIVAM| 80000| 26|8000.0|       Overpaid|         6.4E9|\n",
            "|  4| PRIYA| 75000| 24|7500.0|       Overpaid|       5.625E9|\n",
            "|  5| ROHIT| 72000| 27|7200.0|       Good Pay|       5.184E9|\n",
            "|  6|ANJALI| 69000| 23|6900.0|       Good Pay|       4.761E9|\n",
            "|  7|VIKRAM| 82000| 29|8200.0|       Overpaid|       6.724E9|\n",
            "|  8| KIRAN| 76000| 26|7600.0|       Overpaid|       5.776E9|\n",
            "|  9| SUMAN| 71000| 24|7100.0|       Good Pay|       5.041E9|\n",
            "| 10|  RAVI| 73000| 25|7300.0|       Good Pay|       5.329E9|\n",
            "+---+------+------+---+------+---------------+--------------+\n",
            "\n"
          ]
        }
      ]
    },
    {
      "cell_type": "markdown",
      "source": [
        "✅ Key Takeaways withColumn() allows you to:\n",
        "\n",
        "\t1.\tAdd new columns (derived, calculated, or hardcoded)\n",
        "\t2.\tModify existing columns (like uppercasing or casting types)\n",
        "\t3.\tCreate conditional columns (feature engineering)\n",
        "\t4.\tHandle nulls and missing values\n",
        "\t5.\tApply complex transformations using UDFs\n",
        "\t6.\tPrepare datasets for ML and analytics"
      ],
      "metadata": {
        "id": "iRiyH6jeatXJ"
      }
    },
    {
      "cell_type": "code",
      "source": [],
      "metadata": {
        "id": "P9Q4flA-apNr"
      },
      "execution_count": null,
      "outputs": []
    }
  ]
}