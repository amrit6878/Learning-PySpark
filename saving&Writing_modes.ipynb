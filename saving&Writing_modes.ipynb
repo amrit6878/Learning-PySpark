{
  "nbformat": 4,
  "nbformat_minor": 0,
  "metadata": {
    "colab": {
      "provenance": [],
      "authorship_tag": "ABX9TyMbvUm39g6tbeDT8nQXDOco",
      "include_colab_link": true
    },
    "kernelspec": {
      "name": "python3",
      "display_name": "Python 3"
    },
    "language_info": {
      "name": "python"
    }
  },
  "cells": [
    {
      "cell_type": "markdown",
      "metadata": {
        "id": "view-in-github",
        "colab_type": "text"
      },
      "source": [
        "<a href=\"https://colab.research.google.com/github/amrit6878/Learning-PySpark/blob/main/saving%26Writing_modes.ipynb\" target=\"_parent\"><img src=\"https://colab.research.google.com/assets/colab-badge.svg\" alt=\"Open In Colab\"/></a>"
      ]
    },
    {
      "cell_type": "markdown",
      "source": [
        "# write() method inside the DataFrameWriter module present inside pyspark.sql library is used to write dataframe into csv files\n"
      ],
      "metadata": {
        "id": "RZbQYOFJzVD1"
      }
    },
    {
      "cell_type": "code",
      "source": [
        "from pyspark.sql import *\n",
        "\n",
        "# Create a SparkSession\n",
        "spark = SparkSession.builder.appName(\"example\").getOrCreate()\n",
        "\n",
        "data = [(1,'Amrit'), (2,'Aman'), (3,'Neeraj'), (4,'Shivam'), (5,'Prakhar')]\n",
        "schema = ['id', 'Name']\n",
        "\n",
        "df = spark.createDataFrame(data, schema)\n",
        "df.show()"
      ],
      "metadata": {
        "colab": {
          "base_uri": "https://localhost:8080/"
        },
        "id": "u1YXkQsAzioW",
        "outputId": "205d0acd-a836-4887-e577-b35490a8941d"
      },
      "execution_count": 5,
      "outputs": [
        {
          "output_type": "stream",
          "name": "stdout",
          "text": [
            "+---+-------+\n",
            "| id|   Name|\n",
            "+---+-------+\n",
            "|  1|  Amrit|\n",
            "|  2|   Aman|\n",
            "|  3| Neeraj|\n",
            "|  4| Shivam|\n",
            "|  5|Prakhar|\n",
            "+---+-------+\n",
            "\n"
          ]
        }
      ]
    },
    {
      "cell_type": "code",
      "source": [
        "df.write.csv('output1.csv', header = True)"
      ],
      "metadata": {
        "id": "JQf64KqkBGJB"
      },
      "execution_count": 7,
      "outputs": []
    },
    {
      "cell_type": "markdown",
      "source": [
        "mode parameter inside .option or .csv object is used to define different modes of saving files like-\n",
        "\n",
        "(.......csv('..path...' , header=True, mode=xyz)\n",
        "\n",
        "*   append : Appends the content over existing files\n",
        "*   overwrite: it overwrite or replaces the already existing content\n",
        "* ignore : silently ignores the operation if data is already existing\n",
        "*  error : throwback an exceptional error if data already exists (by default case)\n",
        "\n"
      ],
      "metadata": {
        "id": "SOATA6ACD9No"
      }
    },
    {
      "cell_type": "code",
      "source": [
        "df.write.csv('output2.csv', header = True, mode = 'append')\n",
        "df.write.csv('output2.csv', header = True, mode = 'append')\n",
        "df.show()"
      ],
      "metadata": {
        "colab": {
          "base_uri": "https://localhost:8080/"
        },
        "id": "_JskNWj1CRF0",
        "outputId": "d1defd49-2aca-42b6-eeb6-9bf3fa4aa340"
      },
      "execution_count": 12,
      "outputs": [
        {
          "output_type": "stream",
          "name": "stdout",
          "text": [
            "+---+-------+\n",
            "| id|   Name|\n",
            "+---+-------+\n",
            "|  1|  Amrit|\n",
            "|  2|   Aman|\n",
            "|  3| Neeraj|\n",
            "|  4| Shivam|\n",
            "|  5|Prakhar|\n",
            "+---+-------+\n",
            "\n"
          ]
        }
      ]
    },
    {
      "cell_type": "code",
      "source": [
        "df1 = spark.read.csv('output2.csv', header = True)\n",
        "df1.show()"
      ],
      "metadata": {
        "colab": {
          "base_uri": "https://localhost:8080/"
        },
        "id": "p9aKr-DfFKHw",
        "outputId": "c49416ea-376b-4c77-bf45-157ce41fd317"
      },
      "execution_count": 13,
      "outputs": [
        {
          "output_type": "stream",
          "name": "stdout",
          "text": [
            "+---+-------+\n",
            "| id|   Name|\n",
            "+---+-------+\n",
            "|  3| Neeraj|\n",
            "|  4| Shivam|\n",
            "|  5|Prakhar|\n",
            "|  3| Neeraj|\n",
            "|  4| Shivam|\n",
            "|  5|Prakhar|\n",
            "|  3| Neeraj|\n",
            "|  4| Shivam|\n",
            "|  5|Prakhar|\n",
            "|  1|  Amrit|\n",
            "|  2|   Aman|\n",
            "|  1|  Amrit|\n",
            "|  2|   Aman|\n",
            "|  1|  Amrit|\n",
            "|  2|   Aman|\n",
            "+---+-------+\n",
            "\n"
          ]
        }
      ]
    },
    {
      "cell_type": "code",
      "source": [],
      "metadata": {
        "id": "5ry9iXqXFYuX"
      },
      "execution_count": null,
      "outputs": []
    }
  ]
}