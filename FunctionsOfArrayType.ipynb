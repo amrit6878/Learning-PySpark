{
  "nbformat": 4,
  "nbformat_minor": 0,
  "metadata": {
    "colab": {
      "provenance": [],
      "authorship_tag": "ABX9TyN7Td0VhkG9oG82ToomGrX4",
      "include_colab_link": true
    },
    "kernelspec": {
      "name": "python3",
      "display_name": "Python 3"
    },
    "language_info": {
      "name": "python"
    }
  },
  "cells": [
    {
      "cell_type": "markdown",
      "metadata": {
        "id": "view-in-github",
        "colab_type": "text"
      },
      "source": [
        "<a href=\"https://colab.research.google.com/github/amrit6878/Learning-PySpark/blob/main/FunctionsOfArrayType.ipynb\" target=\"_parent\"><img src=\"https://colab.research.google.com/assets/colab-badge.svg\" alt=\"Open In Colab\"/></a>"
      ]
    },
    {
      "cell_type": "markdown",
      "source": [
        " Majorly used list of ArrayType functions with examples:\n",
        "1. `size()` - Returns the number of elements in the array.\n",
        "2. `array_contains()` - Checks if a value exists in the array (returns boolean).\n",
        "3. `explode() `- Converts an array into multiple rows (flattening).\n",
        "4. `concat()` - Merges two or more array columns.\n",
        "5. `array_distinct() `- Removes duplicate values from an array.\n",
        "6. `array_union()` - Returns the union of two arrays, removing duplicates.\n",
        "7. `array_intersect()` - Returns common elements of two arrays.\n",
        "9. `sort_array()` - Sorts array elements in ascending/descending order.\n"
      ],
      "metadata": {
        "id": "fll0Cxcl6ANj"
      }
    },
    {
      "cell_type": "code",
      "execution_count": 2,
      "metadata": {
        "colab": {
          "base_uri": "https://localhost:8080/"
        },
        "id": "mSzp__U95koM",
        "outputId": "560addc8-ba43-49a2-bcbf-286f56caa752"
      },
      "outputs": [
        {
          "output_type": "stream",
          "name": "stdout",
          "text": [
            "+---+-----+----------------------------+------------+\n",
            "|id |name |skills                      |scores      |\n",
            "+---+-----+----------------------------+------------+\n",
            "|1  |Amrit|[Python, Spark, SQL]        |[85, 90, 88]|\n",
            "|2  |Riya |[Java, Python]              |[78, 85]    |\n",
            "|3  |John |[Python, JavaScript, Python]|[60, 75, 70]|\n",
            "|4  |Sara |[C++, Java]                 |[95, 88]    |\n",
            "|5  |Alex |[Go, Rust, Python]          |[82, 79, 91]|\n",
            "+---+-----+----------------------------+------------+\n",
            "\n",
            "root\n",
            " |-- id: integer (nullable = true)\n",
            " |-- name: string (nullable = true)\n",
            " |-- skills: array (nullable = true)\n",
            " |    |-- element: string (containsNull = true)\n",
            " |-- scores: array (nullable = true)\n",
            " |    |-- element: integer (containsNull = true)\n",
            "\n"
          ]
        }
      ],
      "source": [
        "from pyspark.sql.functions import *\n",
        "from pyspark.sql import SparkSession\n",
        "from pyspark.sql.types import StructType, StructField, IntegerType, StringType, ArrayType\n",
        "\n",
        "spark = SparkSession.builder.appName(\"FunctionsOfArrayType\").getOrCreate()\n",
        "\n",
        "data = [\n",
        "    (1, \"Amrit\", [\"Python\", \"Spark\", \"SQL\"], [85, 90, 88]),\n",
        "    (2, \"Riya\", [\"Java\", \"Python\"], [78, 85]),\n",
        "    (3, \"John\", [\"Python\", \"JavaScript\", \"Python\"], [60, 75, 70]),\n",
        "    (4, \"Sara\", [\"C++\", \"Java\"], [95, 88]),\n",
        "    (5, \"Alex\", [\"Go\", \"Rust\", \"Python\"], [82, 79, 91])\n",
        "]\n",
        "\n",
        "schema = StructType([\n",
        "    StructField(\"id\", IntegerType(), True),\n",
        "    StructField(\"name\", StringType(), True),\n",
        "    StructField(\"skills\", ArrayType(StringType()), True),\n",
        "    StructField(\"scores\", ArrayType(IntegerType()), True)\n",
        "])\n",
        "\n",
        "df = spark.createDataFrame(data, schema=schema)\n",
        "df.show(truncate=False)\n",
        "df.printSchema()"
      ]
    },
    {
      "cell_type": "code",
      "source": [
        "df.select(\"name\", size(\"skills\").alias(\"num_skills\")).show()"
      ],
      "metadata": {
        "colab": {
          "base_uri": "https://localhost:8080/"
        },
        "id": "F74gotUh8axX",
        "outputId": "2cba415c-3a5c-413f-a4f6-59dd112466a0"
      },
      "execution_count": 3,
      "outputs": [
        {
          "output_type": "stream",
          "name": "stdout",
          "text": [
            "+-----+----------+\n",
            "| name|num_skills|\n",
            "+-----+----------+\n",
            "|Amrit|         3|\n",
            "| Riya|         2|\n",
            "| John|         3|\n",
            "| Sara|         2|\n",
            "| Alex|         3|\n",
            "+-----+----------+\n",
            "\n"
          ]
        }
      ]
    },
    {
      "cell_type": "code",
      "source": [
        "df.select(\"name\", array_contains(\"skills\", \"Python\").alias(\"knows_python\")).show()"
      ],
      "metadata": {
        "colab": {
          "base_uri": "https://localhost:8080/"
        },
        "id": "Hf8iP_VE8vwN",
        "outputId": "d1bd924d-53df-49f0-912b-7804bc9a7a1a"
      },
      "execution_count": 4,
      "outputs": [
        {
          "output_type": "stream",
          "name": "stdout",
          "text": [
            "+-----+------------+\n",
            "| name|knows_python|\n",
            "+-----+------------+\n",
            "|Amrit|        true|\n",
            "| Riya|        true|\n",
            "| John|        true|\n",
            "| Sara|       false|\n",
            "| Alex|        true|\n",
            "+-----+------------+\n",
            "\n"
          ]
        }
      ]
    },
    {
      "cell_type": "code",
      "source": [
        "df.select(\"name\", explode(\"skills\").alias(\"skill\")).show()"
      ],
      "metadata": {
        "colab": {
          "base_uri": "https://localhost:8080/"
        },
        "id": "_rxx9wdX8x-V",
        "outputId": "d9a7d15e-24cb-4698-cbe9-a18d34789cea"
      },
      "execution_count": 5,
      "outputs": [
        {
          "output_type": "stream",
          "name": "stdout",
          "text": [
            "+-----+----------+\n",
            "| name|     skill|\n",
            "+-----+----------+\n",
            "|Amrit|    Python|\n",
            "|Amrit|     Spark|\n",
            "|Amrit|       SQL|\n",
            "| Riya|      Java|\n",
            "| Riya|    Python|\n",
            "| John|    Python|\n",
            "| John|JavaScript|\n",
            "| John|    Python|\n",
            "| Sara|       C++|\n",
            "| Sara|      Java|\n",
            "| Alex|        Go|\n",
            "| Alex|      Rust|\n",
            "| Alex|    Python|\n",
            "+-----+----------+\n",
            "\n"
          ]
        }
      ]
    },
    {
      "cell_type": "code",
      "source": [
        "df.withColumn(\"updated_skills\", concat(col(\"skills\"), array(lit(\"SQL\")))).show(truncate=False)"
      ],
      "metadata": {
        "colab": {
          "base_uri": "https://localhost:8080/"
        },
        "id": "d_YrjIIE80ys",
        "outputId": "7a2b0974-a074-4811-e4b1-94c0c7c84eb1"
      },
      "execution_count": 6,
      "outputs": [
        {
          "output_type": "stream",
          "name": "stdout",
          "text": [
            "+---+-----+----------------------------+------------+---------------------------------+\n",
            "|id |name |skills                      |scores      |updated_skills                   |\n",
            "+---+-----+----------------------------+------------+---------------------------------+\n",
            "|1  |Amrit|[Python, Spark, SQL]        |[85, 90, 88]|[Python, Spark, SQL, SQL]        |\n",
            "|2  |Riya |[Java, Python]              |[78, 85]    |[Java, Python, SQL]              |\n",
            "|3  |John |[Python, JavaScript, Python]|[60, 75, 70]|[Python, JavaScript, Python, SQL]|\n",
            "|4  |Sara |[C++, Java]                 |[95, 88]    |[C++, Java, SQL]                 |\n",
            "|5  |Alex |[Go, Rust, Python]          |[82, 79, 91]|[Go, Rust, Python, SQL]          |\n",
            "+---+-----+----------------------------+------------+---------------------------------+\n",
            "\n"
          ]
        }
      ]
    },
    {
      "cell_type": "code",
      "source": [
        "df.select(\"name\", array_distinct(\"skills\").alias(\"unique_skills\")).show(truncate=False)"
      ],
      "metadata": {
        "colab": {
          "base_uri": "https://localhost:8080/"
        },
        "id": "C8jLgF5489RU",
        "outputId": "62c76826-5c89-48e9-b60d-0629f6556aab"
      },
      "execution_count": 7,
      "outputs": [
        {
          "output_type": "stream",
          "name": "stdout",
          "text": [
            "+-----+--------------------+\n",
            "|name |unique_skills       |\n",
            "+-----+--------------------+\n",
            "|Amrit|[Python, Spark, SQL]|\n",
            "|Riya |[Java, Python]      |\n",
            "|John |[Python, JavaScript]|\n",
            "|Sara |[C++, Java]         |\n",
            "|Alex |[Go, Rust, Python]  |\n",
            "+-----+--------------------+\n",
            "\n"
          ]
        }
      ]
    },
    {
      "cell_type": "code",
      "source": [
        "df.select(\"name\", array_union(\"skills\", array(lit(\"Python\"))).alias(\"skills_union\")).show(truncate=False)"
      ],
      "metadata": {
        "colab": {
          "base_uri": "https://localhost:8080/"
        },
        "id": "kacwzCS-9Dy5",
        "outputId": "8a6ca82c-5036-422f-e61e-02449067d425"
      },
      "execution_count": 8,
      "outputs": [
        {
          "output_type": "stream",
          "name": "stdout",
          "text": [
            "+-----+--------------------+\n",
            "|name |skills_union        |\n",
            "+-----+--------------------+\n",
            "|Amrit|[Python, Spark, SQL]|\n",
            "|Riya |[Java, Python]      |\n",
            "|John |[Python, JavaScript]|\n",
            "|Sara |[C++, Java, Python] |\n",
            "|Alex |[Go, Rust, Python]  |\n",
            "+-----+--------------------+\n",
            "\n"
          ]
        }
      ]
    },
    {
      "cell_type": "code",
      "source": [
        "df.select(\"name\", array_intersect(\"skills\", array(lit(\"Python\"), lit(\"Java\"))).alias(\"common_skills\")).show(truncate=False)\n"
      ],
      "metadata": {
        "colab": {
          "base_uri": "https://localhost:8080/"
        },
        "id": "v5-IzeFT9HZT",
        "outputId": "d48b82cb-1210-4c2a-f646-16a4a84b009f"
      },
      "execution_count": 9,
      "outputs": [
        {
          "output_type": "stream",
          "name": "stdout",
          "text": [
            "+-----+--------------+\n",
            "|name |common_skills |\n",
            "+-----+--------------+\n",
            "|Amrit|[Python]      |\n",
            "|Riya |[Java, Python]|\n",
            "|John |[Python]      |\n",
            "|Sara |[Java]        |\n",
            "|Alex |[Python]      |\n",
            "+-----+--------------+\n",
            "\n"
          ]
        }
      ]
    },
    {
      "cell_type": "code",
      "source": [
        "df.select(\"name\", sort_array(\"scores\", asc=False).alias(\"sorted_scores\")).show(truncate=False)"
      ],
      "metadata": {
        "colab": {
          "base_uri": "https://localhost:8080/"
        },
        "id": "Raoh2a049KwC",
        "outputId": "cadcc4e1-d829-40bd-f06f-9c5cb753362a"
      },
      "execution_count": 10,
      "outputs": [
        {
          "output_type": "stream",
          "name": "stdout",
          "text": [
            "+-----+-------------+\n",
            "|name |sorted_scores|\n",
            "+-----+-------------+\n",
            "|Amrit|[90, 88, 85] |\n",
            "|Riya |[85, 78]     |\n",
            "|John |[75, 70, 60] |\n",
            "|Sara |[95, 88]     |\n",
            "|Alex |[91, 82, 79] |\n",
            "+-----+-------------+\n",
            "\n"
          ]
        }
      ]
    },
    {
      "cell_type": "code",
      "source": [],
      "metadata": {
        "id": "ZxFBqY_29QS2"
      },
      "execution_count": null,
      "outputs": []
    }
  ]
}