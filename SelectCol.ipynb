{
  "nbformat": 4,
  "nbformat_minor": 0,
  "metadata": {
    "colab": {
      "provenance": [],
      "authorship_tag": "ABX9TyOWPulhda0+FPnK/AVgyLB6",
      "include_colab_link": true
    },
    "kernelspec": {
      "name": "python3",
      "display_name": "Python 3"
    },
    "language_info": {
      "name": "python"
    }
  },
  "cells": [
    {
      "cell_type": "markdown",
      "metadata": {
        "id": "view-in-github",
        "colab_type": "text"
      },
      "source": [
        "<a href=\"https://colab.research.google.com/github/amrit6878/Learning-PySpark/blob/main/SelectCol.ipynb\" target=\"_parent\"><img src=\"https://colab.research.google.com/assets/colab-badge.svg\" alt=\"Open In Colab\"/></a>"
      ]
    },
    {
      "cell_type": "code",
      "execution_count": 1,
      "metadata": {
        "colab": {
          "base_uri": "https://localhost:8080/"
        },
        "id": "gy7BGkadk-qI",
        "outputId": "248ca84f-8af8-4f23-af04-6820fa57786a"
      },
      "outputs": [
        {
          "output_type": "stream",
          "name": "stdout",
          "text": [
            "+---+-------+---+-------+\n",
            "| ID|   Name|Age|   Dept|\n",
            "+---+-------+---+-------+\n",
            "|  1|  Alice| 25|     HR|\n",
            "|  2|    Bob| 30|     IT|\n",
            "|  3|Charlie| 28|Finance|\n",
            "|  4|  David| 35|     IT|\n",
            "|  5|    Eva| 40|     HR|\n",
            "+---+-------+---+-------+\n",
            "\n"
          ]
        }
      ],
      "source": [
        "from pyspark.sql import SparkSession\n",
        "\n",
        "spark = SparkSession.builder.appName(\"SelectAccessData\").getOrCreate()\n",
        "\n",
        "data = [\n",
        "    (1, \"Alice\", 25, \"HR\"),\n",
        "    (2, \"Bob\", 30, \"IT\"),\n",
        "    (3, \"Charlie\", 28, \"Finance\"),\n",
        "    (4, \"David\", 35, \"IT\"),\n",
        "    (5, \"Eva\", 40, \"HR\")\n",
        "]\n",
        "columns = [\"ID\", \"Name\", \"Age\", \"Dept\"]\n",
        "\n",
        "df = spark.createDataFrame(data, columns)\n",
        "df.show()"
      ]
    },
    {
      "cell_type": "code",
      "source": [
        "from pyspark.sql.functions import col\n",
        "df.select(col(\"Name\"), col(\"Age\")).show()"
      ],
      "metadata": {
        "colab": {
          "base_uri": "https://localhost:8080/"
        },
        "id": "xpjbZ8LclKPm",
        "outputId": "7a339117-9f93-4956-bbaf-ad40498d44e7"
      },
      "execution_count": 3,
      "outputs": [
        {
          "output_type": "stream",
          "name": "stdout",
          "text": [
            "+-------+---+\n",
            "|   Name|Age|\n",
            "+-------+---+\n",
            "|  Alice| 25|\n",
            "|    Bob| 30|\n",
            "|Charlie| 28|\n",
            "|  David| 35|\n",
            "|    Eva| 40|\n",
            "+-------+---+\n",
            "\n"
          ]
        }
      ]
    },
    {
      "cell_type": "markdown",
      "source": [
        "# Select All Columns"
      ],
      "metadata": {
        "id": "QUyRXu6BlrWh"
      }
    },
    {
      "cell_type": "code",
      "source": [
        "df.show()"
      ],
      "metadata": {
        "colab": {
          "base_uri": "https://localhost:8080/"
        },
        "id": "nRuaCTSolgfW",
        "outputId": "f0f01e22-63a0-42ef-ace5-65692d5e8367"
      },
      "execution_count": 4,
      "outputs": [
        {
          "output_type": "stream",
          "name": "stdout",
          "text": [
            "+---+-------+---+-------+\n",
            "| ID|   Name|Age|   Dept|\n",
            "+---+-------+---+-------+\n",
            "|  1|  Alice| 25|     HR|\n",
            "|  2|    Bob| 30|     IT|\n",
            "|  3|Charlie| 28|Finance|\n",
            "|  4|  David| 35|     IT|\n",
            "|  5|    Eva| 40|     HR|\n",
            "+---+-------+---+-------+\n",
            "\n"
          ]
        }
      ]
    },
    {
      "cell_type": "markdown",
      "source": [
        "# Select Single Column"
      ],
      "metadata": {
        "id": "EtH2C4FBlwK9"
      }
    },
    {
      "cell_type": "code",
      "source": [
        "df.select(\"Name\").show()\n",
        "df.select(col(\"Age\")).show()"
      ],
      "metadata": {
        "colab": {
          "base_uri": "https://localhost:8080/"
        },
        "id": "JX1uS4galvAq",
        "outputId": "3611ddb3-2a2d-466f-cdb3-be98c4572f0b"
      },
      "execution_count": 5,
      "outputs": [
        {
          "output_type": "stream",
          "name": "stdout",
          "text": [
            "+-------+\n",
            "|   Name|\n",
            "+-------+\n",
            "|  Alice|\n",
            "|    Bob|\n",
            "|Charlie|\n",
            "|  David|\n",
            "|    Eva|\n",
            "+-------+\n",
            "\n",
            "+---+\n",
            "|Age|\n",
            "+---+\n",
            "| 25|\n",
            "| 30|\n",
            "| 28|\n",
            "| 35|\n",
            "| 40|\n",
            "+---+\n",
            "\n"
          ]
        }
      ]
    },
    {
      "cell_type": "markdown",
      "source": [
        "# Select Multiple Columns"
      ],
      "metadata": {
        "id": "11qcUzITl3UA"
      }
    },
    {
      "cell_type": "code",
      "source": [
        "df.select(\"Name\", \"Dept\").show()\n",
        "df.select(col(\"Age\"), col(\"Dept\")).show()"
      ],
      "metadata": {
        "colab": {
          "base_uri": "https://localhost:8080/"
        },
        "id": "w2xx28VJl0yO",
        "outputId": "1efee2a9-65ca-4b4a-8dd5-727624543e9b"
      },
      "execution_count": 6,
      "outputs": [
        {
          "output_type": "stream",
          "name": "stdout",
          "text": [
            "+-------+-------+\n",
            "|   Name|   Dept|\n",
            "+-------+-------+\n",
            "|  Alice|     HR|\n",
            "|    Bob|     IT|\n",
            "|Charlie|Finance|\n",
            "|  David|     IT|\n",
            "|    Eva|     HR|\n",
            "+-------+-------+\n",
            "\n",
            "+---+-------+\n",
            "|Age|   Dept|\n",
            "+---+-------+\n",
            "| 25|     HR|\n",
            "| 30|     IT|\n",
            "| 28|Finance|\n",
            "| 35|     IT|\n",
            "| 40|     HR|\n",
            "+---+-------+\n",
            "\n"
          ]
        }
      ]
    },
    {
      "cell_type": "markdown",
      "source": [
        "# Select with Column Aliases - `select(col(\"col_name\").alias(\"alias_name\")`"
      ],
      "metadata": {
        "id": "bEr0pBWgmHL1"
      }
    },
    {
      "cell_type": "code",
      "source": [
        "df.select(col(\"Name\").alias(\"Employee_Name\"), col(\"Age\").alias(\"Years\")).show()"
      ],
      "metadata": {
        "colab": {
          "base_uri": "https://localhost:8080/"
        },
        "id": "QMArpeqZmFz6",
        "outputId": "ef368122-dda2-4cf3-a2bb-d5c0f287df85"
      },
      "execution_count": 7,
      "outputs": [
        {
          "output_type": "stream",
          "name": "stdout",
          "text": [
            "+-------------+-----+\n",
            "|Employee_Name|Years|\n",
            "+-------------+-----+\n",
            "|        Alice|   25|\n",
            "|          Bob|   30|\n",
            "|      Charlie|   28|\n",
            "|        David|   35|\n",
            "|          Eva|   40|\n",
            "+-------------+-----+\n",
            "\n"
          ]
        }
      ]
    },
    {
      "cell_type": "markdown",
      "source": [
        "# Select with Expressions"
      ],
      "metadata": {
        "id": "BYmzvdu2mics"
      }
    },
    {
      "cell_type": "code",
      "source": [
        "df.select(col(\"Name\"), (col(\"Age\") + 5).alias(\"Age_After_5_Years\")).show()"
      ],
      "metadata": {
        "colab": {
          "base_uri": "https://localhost:8080/"
        },
        "id": "CfE1fTdimZEe",
        "outputId": "99d25d8d-c4da-4270-99d7-c539d4b60167"
      },
      "execution_count": 8,
      "outputs": [
        {
          "output_type": "stream",
          "name": "stdout",
          "text": [
            "+-------+-----------------+\n",
            "|   Name|Age_After_5_Years|\n",
            "+-------+-----------------+\n",
            "|  Alice|               30|\n",
            "|    Bob|               35|\n",
            "|Charlie|               33|\n",
            "|  David|               40|\n",
            "|    Eva|               45|\n",
            "+-------+-----------------+\n",
            "\n"
          ]
        }
      ]
    },
    {
      "cell_type": "code",
      "source": [],
      "metadata": {
        "id": "q8-OTFuwmlND"
      },
      "execution_count": null,
      "outputs": []
    }
  ]
}