{
  "nbformat": 4,
  "nbformat_minor": 0,
  "metadata": {
    "colab": {
      "provenance": [],
      "authorship_tag": "ABX9TyO74QIV9xqAWtMi5Snb+E0v",
      "include_colab_link": true
    },
    "kernelspec": {
      "name": "python3",
      "display_name": "Python 3"
    },
    "language_info": {
      "name": "python"
    }
  },
  "cells": [
    {
      "cell_type": "markdown",
      "metadata": {
        "id": "view-in-github",
        "colab_type": "text"
      },
      "source": [
        "<a href=\"https://colab.research.google.com/github/amrit6878/Learning-PySpark/blob/main/Filter_Where.ipynb\" target=\"_parent\"><img src=\"https://colab.research.google.com/assets/colab-badge.svg\" alt=\"Open In Colab\"/></a>"
      ]
    },
    {
      "cell_type": "markdown",
      "source": [
        "**filter() and where()**\n",
        " Both functions are used to filter rows from a DataFrame based on a boolean condition and return a new DataFrame with rows satisfying the condition.\n",
        "\n",
        " equivalence: `df.filter(condition)  ==  df.where(condition)`"
      ],
      "metadata": {
        "id": "1xG8Mwv5_NdJ"
      }
    },
    {
      "cell_type": "code",
      "execution_count": null,
      "metadata": {
        "colab": {
          "base_uri": "https://localhost:8080/"
        },
        "id": "knBAwjL7_FSS",
        "outputId": "a68184ee-09cd-49a9-d979-bb5bd1689b3b"
      },
      "outputs": [
        {
          "output_type": "stream",
          "name": "stdout",
          "text": [
            "+---+-------+----+-------+------+\n",
            "| ID|   Name| Age|   Dept|Salary|\n",
            "+---+-------+----+-------+------+\n",
            "|  1|  Alice|  25|     HR| 50000|\n",
            "|  2|    Bob|  30|     IT| 60000|\n",
            "|  3|Charlie|  28|Finance| 55000|\n",
            "|  4|  David|  35|     IT| 75000|\n",
            "|  5|    Eva|  40|     HR| 80000|\n",
            "|  6|  Frank|NULL|Finance| 70000|\n",
            "|  7|  Grace|  29|   NULL| 65000|\n",
            "+---+-------+----+-------+------+\n",
            "\n"
          ]
        }
      ],
      "source": [
        "from pyspark.sql import SparkSession\n",
        "from pyspark.sql.functions import col\n",
        "\n",
        "spark = SparkSession.builder.appName(\"FilterWhereExamples\").getOrCreate()\n",
        "\n",
        "employees = [\n",
        "    (1, \"Alice\", 25, \"HR\", 50000),\n",
        "    (2, \"Bob\", 30, \"IT\", 60000),\n",
        "    (3, \"Charlie\", 28, \"Finance\", 55000),\n",
        "    (4, \"David\", 35, \"IT\", 75000),\n",
        "    (5, \"Eva\", 40, \"HR\", 80000),\n",
        "    (6, \"Frank\", None, \"Finance\", 70000),\n",
        "    (7, \"Grace\", 29, None, 65000)\n",
        "]\n",
        "emp_columns = [\"ID\", \"Name\", \"Age\", \"Dept\", \"Salary\"]\n",
        "\n",
        "emp_df = spark.createDataFrame(employees, emp_columns)\n",
        "emp_df.show()"
      ]
    },
    {
      "cell_type": "code",
      "source": [
        "sales = [\n",
        "    (101, \"Laptop\", 5, 50000, \"2025-01-10\"),\n",
        "    (102, \"Phone\", 10, 20000, \"2025-02-15\"),\n",
        "    (103, \"Tablet\", 3, 30000, \"2025-02-20\"),\n",
        "    (104, \"Laptop\", 7, 52000, \"2025-03-01\"),\n",
        "    (105, \"Camera\", 2, 25000, \"2025-03-15\"),\n",
        "    (106, \"Phone\", 15, 18000, \"2025-04-05\")\n",
        "]\n",
        "sales_columns = [\"OrderID\", \"Product\", \"Quantity\", \"Price\", \"Date\"]\n",
        "\n",
        "sales_df = spark.createDataFrame(sales, sales_columns)\n",
        "sales_df.show()"
      ],
      "metadata": {
        "colab": {
          "base_uri": "https://localhost:8080/"
        },
        "id": "3pcGzZse_81L",
        "outputId": "e77ef0aa-bdf3-4f8a-a2d3-73fc1f713e04"
      },
      "execution_count": null,
      "outputs": [
        {
          "output_type": "stream",
          "name": "stdout",
          "text": [
            "+-------+-------+--------+-----+----------+\n",
            "|OrderID|Product|Quantity|Price|      Date|\n",
            "+-------+-------+--------+-----+----------+\n",
            "|    101| Laptop|       5|50000|2025-01-10|\n",
            "|    102|  Phone|      10|20000|2025-02-15|\n",
            "|    103| Tablet|       3|30000|2025-02-20|\n",
            "|    104| Laptop|       7|52000|2025-03-01|\n",
            "|    105| Camera|       2|25000|2025-03-15|\n",
            "|    106|  Phone|      15|18000|2025-04-05|\n",
            "+-------+-------+--------+-----+----------+\n",
            "\n"
          ]
        }
      ]
    },
    {
      "cell_type": "code",
      "source": [
        "students = [\n",
        "    (1, \"John\", \"CSE\", 85),\n",
        "    (2, \"Sara\", \"ECE\", 92),\n",
        "    (3, \"Mike\", \"MECH\", 45),\n",
        "    (4, \"Lily\", \"CSE\", 78),\n",
        "    (5, \"Tom\", \"EEE\", 55),\n",
        "    (6, \"Nina\", \"CSE\", None)\n",
        "]\n",
        "stu_columns = [\"RollNo\", \"Name\", \"Branch\", \"Marks\"]\n",
        "\n",
        "stu_df = spark.createDataFrame(students, stu_columns)\n",
        "stu_df.show()"
      ],
      "metadata": {
        "colab": {
          "base_uri": "https://localhost:8080/"
        },
        "id": "eh-_cSHDAcEB",
        "outputId": "e6a54583-1862-4e9c-e3e9-63f4e9bd256e"
      },
      "execution_count": null,
      "outputs": [
        {
          "output_type": "stream",
          "name": "stdout",
          "text": [
            "+------+----+------+-----+\n",
            "|RollNo|Name|Branch|Marks|\n",
            "+------+----+------+-----+\n",
            "|     1|John|   CSE|   85|\n",
            "|     2|Sara|   ECE|   92|\n",
            "|     3|Mike|  MECH|   45|\n",
            "|     4|Lily|   CSE|   78|\n",
            "|     5| Tom|   EEE|   55|\n",
            "|     6|Nina|   CSE| NULL|\n",
            "+------+----+------+-----+\n",
            "\n"
          ]
        }
      ]
    },
    {
      "cell_type": "markdown",
      "source": [
        "# Examples of filter() and where() on Multiple Datasets"
      ],
      "metadata": {
        "id": "Yeu7l7RAAf-w"
      }
    },
    {
      "cell_type": "code",
      "source": [
        "emp_df.filter((col(\"Dept\") == \"IT\") & (col(\"Salary\") > 60000) | (col(\"Dept\") != \"HR\")).show()"
      ],
      "metadata": {
        "colab": {
          "base_uri": "https://localhost:8080/"
        },
        "id": "kcTJLgZEAdlV",
        "outputId": "cefb537c-7b46-49b1-9263-8d43da9dc38d"
      },
      "execution_count": null,
      "outputs": [
        {
          "output_type": "stream",
          "name": "stdout",
          "text": [
            "+---+-------+----+-------+------+\n",
            "| ID|   Name| Age|   Dept|Salary|\n",
            "+---+-------+----+-------+------+\n",
            "|  2|    Bob|  30|     IT| 60000|\n",
            "|  3|Charlie|  28|Finance| 55000|\n",
            "|  4|  David|  35|     IT| 75000|\n",
            "|  6|  Frank|NULL|Finance| 70000|\n",
            "+---+-------+----+-------+------+\n",
            "\n"
          ]
        }
      ]
    },
    {
      "cell_type": "code",
      "source": [
        "sales_df.filter((col(\"Quantity\") > 5) | (col(\"Product\").isin(\"Laptop\", \"Phone\"))).show()"
      ],
      "metadata": {
        "colab": {
          "base_uri": "https://localhost:8080/"
        },
        "id": "VHzi8b3PBI5r",
        "outputId": "ef3e6cbf-d0a3-4085-9ae3-286e3701cdfd"
      },
      "execution_count": null,
      "outputs": [
        {
          "output_type": "stream",
          "name": "stdout",
          "text": [
            "+-------+-------+--------+-----+----------+\n",
            "|OrderID|Product|Quantity|Price|      Date|\n",
            "+-------+-------+--------+-----+----------+\n",
            "|    101| Laptop|       5|50000|2025-01-10|\n",
            "|    102|  Phone|      10|20000|2025-02-15|\n",
            "|    104| Laptop|       7|52000|2025-03-01|\n",
            "|    106|  Phone|      15|18000|2025-04-05|\n",
            "+-------+-------+--------+-----+----------+\n",
            "\n"
          ]
        }
      ]
    },
    {
      "cell_type": "code",
      "source": [
        "stu_df.filter(col(\"Marks\") >= 60).show()\n",
        "stu_df.where(col(\"Branch\").isin(\"CSE\", \"ECE\")).show()"
      ],
      "metadata": {
        "colab": {
          "base_uri": "https://localhost:8080/"
        },
        "id": "3RDPeaPvBWih",
        "outputId": "a18c63df-87bb-483c-d5e1-e72cebced075"
      },
      "execution_count": null,
      "outputs": [
        {
          "output_type": "stream",
          "name": "stdout",
          "text": [
            "+------+----+------+-----+\n",
            "|RollNo|Name|Branch|Marks|\n",
            "+------+----+------+-----+\n",
            "|     1|John|   CSE|   85|\n",
            "|     2|Sara|   ECE|   92|\n",
            "|     4|Lily|   CSE|   78|\n",
            "+------+----+------+-----+\n",
            "\n",
            "+------+----+------+-----+\n",
            "|RollNo|Name|Branch|Marks|\n",
            "+------+----+------+-----+\n",
            "|     1|John|   CSE|   85|\n",
            "|     2|Sara|   ECE|   92|\n",
            "|     4|Lily|   CSE|   78|\n",
            "|     6|Nina|   CSE| NULL|\n",
            "+------+----+------+-----+\n",
            "\n"
          ]
        }
      ]
    },
    {
      "cell_type": "code",
      "source": [
        "stu_df.filter((col(\"Marks\") < 50) | col(\"Marks\").isNull()).show()"
      ],
      "metadata": {
        "colab": {
          "base_uri": "https://localhost:8080/"
        },
        "id": "cKUD186wBnRJ",
        "outputId": "b294a0fb-86b3-4e42-c01b-cadd812be3bb"
      },
      "execution_count": null,
      "outputs": [
        {
          "output_type": "stream",
          "name": "stdout",
          "text": [
            "+------+----+------+-----+\n",
            "|RollNo|Name|Branch|Marks|\n",
            "+------+----+------+-----+\n",
            "|     3|Mike|  MECH|   45|\n",
            "|     6|Nina|   CSE| NULL|\n",
            "+------+----+------+-----+\n",
            "\n"
          ]
        }
      ]
    },
    {
      "cell_type": "markdown",
      "source": [
        "Key Points to Remember\n",
        "\t1.\tfilter() and where() are identical in functionality.\n",
        "\t2.\tUse col() or string expressions for conditions.\n",
        "\t3.\tCombine conditions with:\n",
        "\n",
        "\t•\t& → AND\n",
        "\t•\t| → OR\n",
        "\t•\t~ → NOT\n",
        "\n",
        "\t•\t.isin([...])\n",
        "\t•\t.isNull() / .isNotNull()\n",
        "\t•\t.startswith(), .endswith(), .contains()\n",
        "\n",
        "Practical Use Cases\n",
        "\n",
        "\t•\tFilter active employees\n",
        "\t•\tGet data above a threshold\n",
        "\t•\tRemove NULL or missing records\n",
        "\t•\tApply multiple logical conditions"
      ],
      "metadata": {
        "id": "W0xu7r3fECQT"
      }
    },
    {
      "cell_type": "code",
      "source": [],
      "metadata": {
        "id": "MA5JfiGXBxl9"
      },
      "execution_count": null,
      "outputs": []
    }
  ]
}